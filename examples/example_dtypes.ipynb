{
 "cells": [
  {
   "cell_type": "code",
   "execution_count": 10,
   "id": "5ee444b6",
   "metadata": {},
   "outputs": [],
   "source": [
    "import json\n",
    "from time import time\n",
    "import numpy as np\n",
    "import pandas as pd\n",
    "from pathlib import Path\n",
    "from dpmm.pipelines import MSTPipeline"
   ]
  },
  {
   "cell_type": "markdown",
   "id": "c6885749",
   "metadata": {},
   "source": [
    "# Load data"
   ]
  },
  {
   "cell_type": "code",
   "execution_count": 11,
   "id": "b0acb4e1",
   "metadata": {},
   "outputs": [
    {
     "data": {
      "text/html": [
       "<div>\n",
       "<style scoped>\n",
       "    .dataframe tbody tr th:only-of-type {\n",
       "        vertical-align: middle;\n",
       "    }\n",
       "\n",
       "    .dataframe tbody tr th {\n",
       "        vertical-align: top;\n",
       "    }\n",
       "\n",
       "    .dataframe thead th {\n",
       "        text-align: right;\n",
       "    }\n",
       "</style>\n",
       "<table border=\"1\" class=\"dataframe\">\n",
       "  <thead>\n",
       "    <tr style=\"text-align: right;\">\n",
       "      <th></th>\n",
       "      <th>datetime_col</th>\n",
       "      <th>timedelta_col</th>\n",
       "      <th>int_col</th>\n",
       "      <th>float_col</th>\n",
       "      <th>category_col</th>\n",
       "    </tr>\n",
       "  </thead>\n",
       "  <tbody>\n",
       "    <tr>\n",
       "      <th>0</th>\n",
       "      <td>2025-02-21 14:07:52.063903856</td>\n",
       "      <td>341 days 23:01:00.217958832</td>\n",
       "      <td>90</td>\n",
       "      <td>0.276895</td>\n",
       "      <td>7</td>\n",
       "    </tr>\n",
       "    <tr>\n",
       "      <th>1</th>\n",
       "      <td>2024-04-25 15:20:19.132008694</td>\n",
       "      <td>84 days 14:13:29.889610772</td>\n",
       "      <td>0</td>\n",
       "      <td>0.500879</td>\n",
       "      <td>8</td>\n",
       "    </tr>\n",
       "    <tr>\n",
       "      <th>2</th>\n",
       "      <td>2024-01-06 23:57:05.974915018</td>\n",
       "      <td>36 days 02:26:37.856744218</td>\n",
       "      <td>-75</td>\n",
       "      <td>0.893380</td>\n",
       "      <td>0</td>\n",
       "    </tr>\n",
       "    <tr>\n",
       "      <th>3</th>\n",
       "      <td>2024-10-23 11:49:33.916036136</td>\n",
       "      <td>350 days 23:38:25.245704796</td>\n",
       "      <td>69</td>\n",
       "      <td>0.670218</td>\n",
       "      <td>1</td>\n",
       "    </tr>\n",
       "    <tr>\n",
       "      <th>4</th>\n",
       "      <td>2024-11-05 10:11:17.239320760</td>\n",
       "      <td>161 days 02:05:59.745130012</td>\n",
       "      <td>-25</td>\n",
       "      <td>0.716258</td>\n",
       "      <td>6</td>\n",
       "    </tr>\n",
       "  </tbody>\n",
       "</table>\n",
       "</div>"
      ],
      "text/plain": [
       "                   datetime_col               timedelta_col  int_col  \\\n",
       "0 2025-02-21 14:07:52.063903856 341 days 23:01:00.217958832       90   \n",
       "1 2024-04-25 15:20:19.132008694  84 days 14:13:29.889610772        0   \n",
       "2 2024-01-06 23:57:05.974915018  36 days 02:26:37.856744218      -75   \n",
       "3 2024-10-23 11:49:33.916036136 350 days 23:38:25.245704796       69   \n",
       "4 2024-11-05 10:11:17.239320760 161 days 02:05:59.745130012      -25   \n",
       "\n",
       "   float_col category_col  \n",
       "0   0.276895            7  \n",
       "1   0.500879            8  \n",
       "2   0.893380            0  \n",
       "3   0.670218            1  \n",
       "4   0.716258            6  "
      ]
     },
     "execution_count": 11,
     "metadata": {},
     "output_type": "execute_result"
    }
   ],
   "source": [
    "domain = {\n",
    "    \"datetime_col\": {\"lower\": pd.to_datetime(\"01/01/2024\", format=\"%d/%m/%Y\"), \"upper\": pd.to_datetime(\"31/12/2025\", format=\"%d/%m/%Y\")},\n",
    "    \"timedelta_col\": {\"lower\": pd.to_timedelta(\"0 days\"), \"upper\": pd.to_timedelta(\"365 days\")},\n",
    "    \"int_col\": {\"lower\": -100, \"upper\": 100},\n",
    "    \"float_col\": {\"lower\": 0.0, \"upper\": 1.0},\n",
    "    \"category_col\": {\"categories\": list(range(10))}\n",
    "}\n",
    "\n",
    "NROWS = 10_000\n",
    "df = pd.DataFrame(index=np.arange(NROWS))\n",
    "\n",
    "for col, col_domain in domain.items():\n",
    "    if \"lower\" in col_domain:\n",
    "        df[col] = np.random.uniform(0, 1, size=NROWS) * (col_domain[\"upper\"] - col_domain[\"lower\"]) + col_domain[\"lower\"]\n",
    "        if col == \"int_col\":\n",
    "            df[col] = df[col].round().astype(int)\n",
    "    else:\n",
    "        df[col] = np.random.choice(col_domain[\"categories\"], replace=True, size=NROWS)\n",
    "        df[col] = df[col].astype(\"category\")\n",
    "\n",
    "\n",
    "df.head()"
   ]
  },
  {
   "cell_type": "markdown",
   "id": "5774d416",
   "metadata": {},
   "source": [
    "# Build pipeline"
   ]
  },
  {
   "cell_type": "code",
   "execution_count": null,
   "id": "ab323d6b",
   "metadata": {},
   "outputs": [],
   "source": [
    "pipeline = MSTPipeline(\n",
    "    epsilon=1,  # Privacy budget for generate model\n",
    "    proc_epsilon=0.1,  # Privacy budget for data processing \n",
    "    delta=1e-5,  # Delta Setting in (eps,  delta) differential privacy\n",
    ")"
   ]
  },
  {
   "cell_type": "markdown",
   "id": "8369ddee",
   "metadata": {},
   "source": [
    "# Fit step"
   ]
  },
  {
   "cell_type": "code",
   "execution_count": 13,
   "id": "01c3f6b8",
   "metadata": {},
   "outputs": [
    {
     "name": "stdout",
     "output_type": "stream",
     "text": [
      "Fitting MST pipeline - Took 6.12 seconds\n"
     ]
    }
   ],
   "source": [
    "print(\"Fitting MST pipeline...\", end='\\r')\n",
    "start_time = time()\n",
    "# The number of rows to generate\n",
    "pipeline.fit(df, domain)\n",
    "fit_time = time()\n",
    "\n",
    "print(f\"Fitting MST pipeline - Took {fit_time - start_time:.2f} seconds\")"
   ]
  },
  {
   "cell_type": "markdown",
   "id": "3eb5d820",
   "metadata": {},
   "source": [
    "# Generate step"
   ]
  },
  {
   "cell_type": "code",
   "execution_count": 14,
   "id": "6aa7667b",
   "metadata": {},
   "outputs": [
    {
     "name": "stdout",
     "output_type": "stream",
     "text": [
      "Generating synthetic data - Took 0.04 seconds\n"
     ]
    },
    {
     "data": {
      "text/html": [
       "<div>\n",
       "<style scoped>\n",
       "    .dataframe tbody tr th:only-of-type {\n",
       "        vertical-align: middle;\n",
       "    }\n",
       "\n",
       "    .dataframe tbody tr th {\n",
       "        vertical-align: top;\n",
       "    }\n",
       "\n",
       "    .dataframe thead th {\n",
       "        text-align: right;\n",
       "    }\n",
       "</style>\n",
       "<table border=\"1\" class=\"dataframe\">\n",
       "  <thead>\n",
       "    <tr style=\"text-align: right;\">\n",
       "      <th></th>\n",
       "      <th>datetime_col</th>\n",
       "      <th>timedelta_col</th>\n",
       "      <th>int_col</th>\n",
       "      <th>float_col</th>\n",
       "      <th>category_col</th>\n",
       "    </tr>\n",
       "  </thead>\n",
       "  <tbody>\n",
       "    <tr>\n",
       "      <th>0</th>\n",
       "      <td>2025-03-12 21:21:39.606684</td>\n",
       "      <td>100 days 19:34:00.043399812</td>\n",
       "      <td>-71</td>\n",
       "      <td>0.606442</td>\n",
       "      <td>2</td>\n",
       "    </tr>\n",
       "    <tr>\n",
       "      <th>1</th>\n",
       "      <td>2025-10-28 20:40:13.734340</td>\n",
       "      <td>288 days 08:14:00.947903175</td>\n",
       "      <td>85</td>\n",
       "      <td>0.063074</td>\n",
       "      <td>7</td>\n",
       "    </tr>\n",
       "    <tr>\n",
       "      <th>2</th>\n",
       "      <td>2024-09-22 19:48:13.521290</td>\n",
       "      <td>184 days 01:28:56.579526384</td>\n",
       "      <td>-13</td>\n",
       "      <td>0.153094</td>\n",
       "      <td>4</td>\n",
       "    </tr>\n",
       "    <tr>\n",
       "      <th>3</th>\n",
       "      <td>2024-08-06 23:22:44.034462</td>\n",
       "      <td>342 days 03:36:14.654889502</td>\n",
       "      <td>75</td>\n",
       "      <td>0.776069</td>\n",
       "      <td>6</td>\n",
       "    </tr>\n",
       "    <tr>\n",
       "      <th>4</th>\n",
       "      <td>2024-03-21 03:23:23.283484</td>\n",
       "      <td>44 days 15:49:22.174719843</td>\n",
       "      <td>-33</td>\n",
       "      <td>0.988548</td>\n",
       "      <td>5</td>\n",
       "    </tr>\n",
       "  </tbody>\n",
       "</table>\n",
       "</div>"
      ],
      "text/plain": [
       "                datetime_col               timedelta_col  int_col  float_col  \\\n",
       "0 2025-03-12 21:21:39.606684 100 days 19:34:00.043399812      -71   0.606442   \n",
       "1 2025-10-28 20:40:13.734340 288 days 08:14:00.947903175       85   0.063074   \n",
       "2 2024-09-22 19:48:13.521290 184 days 01:28:56.579526384      -13   0.153094   \n",
       "3 2024-08-06 23:22:44.034462 342 days 03:36:14.654889502       75   0.776069   \n",
       "4 2024-03-21 03:23:23.283484  44 days 15:49:22.174719843      -33   0.988548   \n",
       "\n",
       "  category_col  \n",
       "0            2  \n",
       "1            7  \n",
       "2            4  \n",
       "3            6  \n",
       "4            5  "
      ]
     },
     "execution_count": 14,
     "metadata": {},
     "output_type": "execute_result"
    }
   ],
   "source": [
    "print(\"Generating synthetic data...\", end=\"\\r\")\n",
    "# Generate synthetic data\n",
    "synth_df = pipeline.generate(df.shape[0])\n",
    "gen_time = time()\n",
    "\n",
    "print(f\"Generating synthetic data - Took {gen_time - fit_time:.2f} seconds\")\n",
    "\n",
    "synth_df.head()"
   ]
  }
 ],
 "metadata": {
  "kernelspec": {
   "display_name": ".venv",
   "language": "python",
   "name": "python3"
  },
  "language_info": {
   "codemirror_mode": {
    "name": "ipython",
    "version": 3
   },
   "file_extension": ".py",
   "mimetype": "text/x-python",
   "name": "python",
   "nbconvert_exporter": "python",
   "pygments_lexer": "ipython3",
   "version": "3.11.11"
  }
 },
 "nbformat": 4,
 "nbformat_minor": 5
}
