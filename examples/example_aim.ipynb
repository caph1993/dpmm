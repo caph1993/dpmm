{
 "cells": [
  {
   "cell_type": "code",
   "execution_count": 3,
   "id": "badfad1e",
   "metadata": {},
   "outputs": [
    {
     "name": "stderr",
     "output_type": "stream",
     "text": [
      "/tmp/ipykernel_25606/1534794196.py:3: DeprecationWarning: \n",
      "Pyarrow will become a required dependency of pandas in the next major release of pandas (pandas 3.0),\n",
      "(to allow more performant data types, such as the Arrow string type, and better interoperability with other libraries)\n",
      "but was not found to be installed on your system.\n",
      "If this would cause problems for you,\n",
      "please provide us feedback at https://github.com/pandas-dev/pandas/issues/54466\n",
      "        \n",
      "  import pandas as pd\n"
     ]
    }
   ],
   "source": [
    "import json\n",
    "from time import time\n",
    "import pandas as pd\n",
    "from pathlib import Path\n",
    "from dpmm.pipelines import AIMPipeline"
   ]
  },
  {
   "cell_type": "markdown",
   "id": "0d01d5cd",
   "metadata": {},
   "source": [
    "# Load data"
   ]
  },
  {
   "cell_type": "code",
   "execution_count": 4,
   "id": "ab692720",
   "metadata": {},
   "outputs": [],
   "source": [
    "wine_dir = Path().parent / \"wine\"\n",
    "\n",
    "df = pd.read_pickle(wine_dir / \"wine.pkl.gz\")\n",
    "with (wine_dir / \"wine_bounds.json\").open(\"r\") as f:\n",
    "    domain = json.load(f)\n",
    "\n"
   ]
  },
  {
   "cell_type": "markdown",
   "id": "b53d35ae",
   "metadata": {},
   "source": [
    "# Build AIM pipeline"
   ]
  },
  {
   "cell_type": "code",
   "execution_count": 5,
   "id": "d80cb003",
   "metadata": {},
   "outputs": [],
   "source": [
    "\n",
    "pipeline = AIMPipeline(\n",
    "    epsilon=1,  # Privacy budget for generate model\n",
    "    proc_epsilon=0.1,  # Privacy budget for data processing \n",
    "    binner_type=\"priv-tree\",  # Discretisation algorithm\n",
    "    gen_kwargs={\n",
    "        \"n_iters\": 1000,\n",
    "        \"degree\": 2,\n",
    "        \"num_marginals\": None,\n",
    "        \"max_cells\": 10000,\n",
    "    },\n",
    "    delta=1e-5,  # Delta Setting in (eps, delta) differential privacu\n",
    "    compress=True,  # Domain Compression paramter\n",
    "    max_model_size=80,  # Maximum Model Size in Megabytes\n",
    "    n_bins=\"auto\"  # Number of bins\n",
    ")"
   ]
  },
  {
   "cell_type": "markdown",
   "id": "0a139398",
   "metadata": {},
   "source": [
    "# Fit step"
   ]
  },
  {
   "cell_type": "code",
   "execution_count": 6,
   "id": "24a5c1e1",
   "metadata": {},
   "outputs": [
    {
     "name": "stdout",
     "output_type": "stream",
     "text": [
      "Fitting AIM pipeline - Took 137.70 seconds\n"
     ]
    }
   ],
   "source": [
    "print(\"Fitting AIM pipeline...\", end='\\r')\n",
    "start_time = time()\n",
    "# The number of rows to generate\n",
    "pipeline.fit(df, domain)\n",
    "fit_time = time()\n",
    "print(f\"Fitting AIM pipeline - Took {fit_time - start_time:.2f} seconds\")\n"
   ]
  },
  {
   "cell_type": "markdown",
   "id": "3868ecd5",
   "metadata": {},
   "source": [
    "# Generate step"
   ]
  },
  {
   "cell_type": "code",
   "execution_count": 7,
   "id": "d144d083",
   "metadata": {},
   "outputs": [
    {
     "name": "stdout",
     "output_type": "stream",
     "text": [
      "Generating synthetic data - Took 0.07 seconds\n"
     ]
    },
    {
     "data": {
      "text/html": [
       "<div>\n",
       "<style scoped>\n",
       "    .dataframe tbody tr th:only-of-type {\n",
       "        vertical-align: middle;\n",
       "    }\n",
       "\n",
       "    .dataframe tbody tr th {\n",
       "        vertical-align: top;\n",
       "    }\n",
       "\n",
       "    .dataframe thead th {\n",
       "        text-align: right;\n",
       "    }\n",
       "</style>\n",
       "<table border=\"1\" class=\"dataframe\">\n",
       "  <thead>\n",
       "    <tr style=\"text-align: right;\">\n",
       "      <th></th>\n",
       "      <th>type</th>\n",
       "      <th>fixed acidity</th>\n",
       "      <th>volatile acidity</th>\n",
       "      <th>citric acid</th>\n",
       "      <th>residual sugar</th>\n",
       "      <th>chlorides</th>\n",
       "      <th>free sulfur dioxide</th>\n",
       "      <th>total sulfur dioxide</th>\n",
       "      <th>density</th>\n",
       "      <th>pH</th>\n",
       "      <th>sulphates</th>\n",
       "      <th>alcohol</th>\n",
       "      <th>quality</th>\n",
       "    </tr>\n",
       "  </thead>\n",
       "  <tbody>\n",
       "    <tr>\n",
       "      <th>0</th>\n",
       "      <td>white</td>\n",
       "      <td>9.794007</td>\n",
       "      <td>0.214221</td>\n",
       "      <td>0.263052</td>\n",
       "      <td>2.178182</td>\n",
       "      <td>0.030924</td>\n",
       "      <td>20.596338</td>\n",
       "      <td>93.423141</td>\n",
       "      <td>0.992662</td>\n",
       "      <td>2.991172</td>\n",
       "      <td>0.520225</td>\n",
       "      <td>11.106112</td>\n",
       "      <td>1</td>\n",
       "    </tr>\n",
       "    <tr>\n",
       "      <th>1</th>\n",
       "      <td>white</td>\n",
       "      <td>8.794490</td>\n",
       "      <td>0.319712</td>\n",
       "      <td>0.588624</td>\n",
       "      <td>2.223932</td>\n",
       "      <td>0.033643</td>\n",
       "      <td>9.581360</td>\n",
       "      <td>29.427055</td>\n",
       "      <td>0.993420</td>\n",
       "      <td>3.350735</td>\n",
       "      <td>1.215672</td>\n",
       "      <td>12.467395</td>\n",
       "      <td>1</td>\n",
       "    </tr>\n",
       "    <tr>\n",
       "      <th>2</th>\n",
       "      <td>white</td>\n",
       "      <td>6.166472</td>\n",
       "      <td>0.304872</td>\n",
       "      <td>0.351288</td>\n",
       "      <td>2.897107</td>\n",
       "      <td>0.014269</td>\n",
       "      <td>44.814246</td>\n",
       "      <td>100.761516</td>\n",
       "      <td>0.987278</td>\n",
       "      <td>3.413432</td>\n",
       "      <td>0.349481</td>\n",
       "      <td>12.156588</td>\n",
       "      <td>1</td>\n",
       "    </tr>\n",
       "    <tr>\n",
       "      <th>3</th>\n",
       "      <td>red</td>\n",
       "      <td>6.352416</td>\n",
       "      <td>0.426643</td>\n",
       "      <td>0.284893</td>\n",
       "      <td>2.092849</td>\n",
       "      <td>0.111270</td>\n",
       "      <td>7.964595</td>\n",
       "      <td>106.737013</td>\n",
       "      <td>0.999595</td>\n",
       "      <td>3.279719</td>\n",
       "      <td>1.030645</td>\n",
       "      <td>11.126675</td>\n",
       "      <td>1</td>\n",
       "    </tr>\n",
       "    <tr>\n",
       "      <th>4</th>\n",
       "      <td>white</td>\n",
       "      <td>8.100742</td>\n",
       "      <td>0.145250</td>\n",
       "      <td>0.535973</td>\n",
       "      <td>0.919340</td>\n",
       "      <td>0.030221</td>\n",
       "      <td>17.163646</td>\n",
       "      <td>159.919670</td>\n",
       "      <td>0.992147</td>\n",
       "      <td>3.259013</td>\n",
       "      <td>0.559875</td>\n",
       "      <td>13.033422</td>\n",
       "      <td>1</td>\n",
       "    </tr>\n",
       "  </tbody>\n",
       "</table>\n",
       "</div>"
      ],
      "text/plain": [
       "    type  fixed acidity  volatile acidity  citric acid  residual sugar  \\\n",
       "0  white       9.794007          0.214221     0.263052        2.178182   \n",
       "1  white       8.794490          0.319712     0.588624        2.223932   \n",
       "2  white       6.166472          0.304872     0.351288        2.897107   \n",
       "3    red       6.352416          0.426643     0.284893        2.092849   \n",
       "4  white       8.100742          0.145250     0.535973        0.919340   \n",
       "\n",
       "   chlorides  free sulfur dioxide  total sulfur dioxide   density        pH  \\\n",
       "0   0.030924            20.596338             93.423141  0.992662  2.991172   \n",
       "1   0.033643             9.581360             29.427055  0.993420  3.350735   \n",
       "2   0.014269            44.814246            100.761516  0.987278  3.413432   \n",
       "3   0.111270             7.964595            106.737013  0.999595  3.279719   \n",
       "4   0.030221            17.163646            159.919670  0.992147  3.259013   \n",
       "\n",
       "   sulphates    alcohol quality  \n",
       "0   0.520225  11.106112       1  \n",
       "1   1.215672  12.467395       1  \n",
       "2   0.349481  12.156588       1  \n",
       "3   1.030645  11.126675       1  \n",
       "4   0.559875  13.033422       1  "
      ]
     },
     "execution_count": 7,
     "metadata": {},
     "output_type": "execute_result"
    }
   ],
   "source": [
    "print(\"Generating synthetic data...\", end=\"\\r\")\n",
    "# Generate synthetic data\n",
    "synth_df = pipeline.generate(df.shape[0])\n",
    "gen_time = time()\n",
    "\n",
    "print(f\"Generating synthetic data - Took {gen_time - fit_time:.2f} seconds\")\n",
    "synth_df.head()"
   ]
  }
 ],
 "metadata": {
  "kernelspec": {
   "display_name": ".venv",
   "language": "python",
   "name": "python3"
  },
  "language_info": {
   "codemirror_mode": {
    "name": "ipython",
    "version": 3
   },
   "file_extension": ".py",
   "mimetype": "text/x-python",
   "name": "python",
   "nbconvert_exporter": "python",
   "pygments_lexer": "ipython3",
   "version": "3.11.11"
  }
 },
 "nbformat": 4,
 "nbformat_minor": 5
}
